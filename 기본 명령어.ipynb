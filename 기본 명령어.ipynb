{
 "cells": [
  {
   "cell_type": "markdown",
   "id": "103f620d",
   "metadata": {},
   "source": [
    "### Merge Files (파일 병합, 파일 합치기)"
   ]
  },
  {
   "cell_type": "code",
   "execution_count": null,
   "id": "fd08db45",
   "metadata": {},
   "outputs": [],
   "source": [
    "# ▶폴더 안의 모든 하위 파일 복사해서 하나의 폴더로 합치기\n",
    "import os\n",
    "import shutil\n",
    "\n",
    "#폴더 안에 있는 모든 하위 파일(서브폴더의 파일 포함)을 읽어 리스트로 반환. 반복문과 재귀 함수를 이용해서 하위 폴더의 파일까지 모두 접근\n",
    "def read_all_file(path):\n",
    "    output = os.listdir(path)\n",
    "    file_list = []\n",
    "\n",
    "    for i in output:\n",
    "        if os.path.isdir(path+\"/\"+i): \n",
    "            file_list.extend(read_all_file(path+\"/\"+i)) \n",
    "        elif os.path.isfile(path+\"/\"+i):\n",
    "            file_list.append(path+\"/\"+i)\n",
    "\n",
    "    return file_list\n",
    "\n",
    "#폴더 내의 모든 하위 파일들을 새로운 경로로 복사\n",
    "def copy_all_file(file_list, new_path):\n",
    "    for src_path in file_list:\n",
    "        file = src_path.split(\"/\")[-1]\n",
    "        shutil.copyfile(src_path, new_path+\"/\"+file)\n",
    "        print(\"파일 {} 작업 완료\".format(file)) # 작업한 파일명 출력\n",
    "                \n",
    "# 폴더 안의 모든 하위 파일들(서브 폴더의 파일 포함)을 복사해서 또다른 하나의 폴더로 합친다. \n",
    "# src_path에는 기존 폴더의 경로를 적어주고, new_path에는 파일들을 옮길 새로운 폴더 경로를 적어준다. \n",
    "\n",
    "start_time = time.time() # 작업 시작 시간 \n",
    "\n",
    "src_path = \"C:/test\" # 기존 폴더 경로\n",
    "new_path = \"C:/test_merge\" # 옮길 폴더 경로\n",
    "\n",
    "file_list = read_all_file(src_path)\n",
    "copy_all_file(file_list, new_path)\n",
    "\n",
    "print(\"=\" * 40)\n",
    "print(\"러닝 타임 : {}\".format(time.time() - start_time)) # 총 소요시간 계산\n",
    "\n",
    "\n",
    "# ▶ 특정 Directory 아래의 파일을 하나의 파일로 병합해야 하는 경우\n",
    "import glob, os\n",
    "\n",
    "# 파일 불러오기\n",
    "# 1. glob\n",
    "# file_list = glob.glob('/', '*txt')\n",
    "# 2. glob & os\n",
    "# file_list = glob.glob(os.path.join('/', '*txt'))\n",
    "\n",
    "with open('/merge.txt', 'w') as outfile:\n",
    "    for filename in sorted(file_list):\n",
    "        with open(filename) as file:\n",
    "            for line in file:\n",
    "                outfile.write(line)\n",
    "\n",
    "또는\n",
    "\n",
    "with open('/merge.txt', 'w') as outfile:\n",
    "    for filename in sorted(file_list):\n",
    "        with open(filename) as file:        \n",
    "            outfile.write(file.read())\n",
    "\n",
    "# ▶여러 파일을 하나의 파일로 병합해야 하는 경우\n",
    "# 파일 리스트\n",
    "filenames = ['file0.txt', 'file1.txt', 'file2.txt', ...]\n",
    "\n",
    "with open('merge.txt', 'w') as outfile:\n",
    "    for filename in filenames:\n",
    "        with open(filename) as file:\n",
    "            for line in file:\n",
    "                outfile.write(line)\n",
    "또는\n",
    "\n",
    "with open('merge.txt', 'w') as outfile:\n",
    "    for filename in filenames:\n",
    "        with open(filename) as file:\n",
    "            outfile.write(file.read())\n",
    "            \n",
    "            \n",
    "# ▶ 폴더내 모든 엑셀파일의 시트 모두 합치기           \n",
    "import pandas as pd\n",
    "import os\n",
    "import openpyxl\n",
    "\n",
    "url = \"C://엑셀투파이썬//\" #파일이 담긴 폴더의 경로명\n",
    "files = os.listdir(url) # 위 폴더의 모든 파일을 리스트로\n",
    "df = pd.DataFrame([])\n",
    "for j in files:\n",
    "    sheet = openpyxl.load_workbook(url + j).sheetnames\n",
    "    for i in sheet:\n",
    "        df1 = pd.read_excel(url + j, sheet_name=i)\n",
    "        df1[\"날짜\"] = i #시트이름을 날짜열로 만들기\n",
    "        df1[\"지점\"] = j.split(\".\")[0] #파일이름을 확장자제거해서 지점열로 만들기\n",
    "        df = pd.concat([df, df1])\n",
    "\n",
    "df.to_clipboard(index=False)\n",
    "df.to_excel(\"2.xlsx\", index=False)"
   ]
  },
  {
   "cell_type": "markdown",
   "id": "7441d8a7",
   "metadata": {},
   "source": [
    "### 파일 열기, 저장"
   ]
  },
  {
   "cell_type": "code",
   "execution_count": null,
   "id": "eddf85eb",
   "metadata": {},
   "outputs": [],
   "source": [
    "# ▶파일 읽기\n",
    "file = r\"C:\\Users\\ASIA-19\\Desktop\\화물차사고\\최종데이터\\통합데이터.xlsx\"\n",
    "df = pd.read_excel(file, sheet_name=\"Sheet1\")\n",
    "\n",
    "# ▶파일 저장\n",
    "raw_data.to_excel(excel_writer='sample.xlsx') #엑셀로 저장\n",
    "raw_data.to_excel(excel_writer='C:/Users/pmw72/test/sample.xlsx') #절대경로로 저장"
   ]
  },
  {
   "cell_type": "code",
   "execution_count": null,
   "id": "6a25cd40",
   "metadata": {},
   "outputs": [],
   "source": [
    "df.describe() \n",
    "df.info()\n",
    "df.hea()"
   ]
  },
  {
   "cell_type": "markdown",
   "id": "9234c02f",
   "metadata": {},
   "source": [
    "### 결측치"
   ]
  },
  {
   "cell_type": "code",
   "execution_count": null,
   "id": "75051a00",
   "metadata": {},
   "outputs": [],
   "source": [
    "# ▶ DataFrame 중복 row 제거\n",
    "df.duplicated() # 중복 여부 boolean 형태로 반환\n",
    "df.drop_duplicates() # 행 내용이 동일한 경우 제거\n",
    "df.drop_duplicates(['col1'], keep='last') # col1기준 중복값중 마지막만 남겨둠"
   ]
  },
  {
   "cell_type": "code",
   "execution_count": null,
   "id": "a43b1f8d",
   "metadata": {},
   "outputs": [],
   "source": [
    "# ▶nan값 확인\n",
    "df.isnull().sum()"
   ]
  },
  {
   "cell_type": "code",
   "execution_count": null,
   "id": "e5d9948d",
   "metadata": {},
   "outputs": [],
   "source": [
    "# ▶nan값과 미분류, 기타불명를 기타불명으로 대체\n",
    "df['피해운전자 연령'].replace([None],[44],inplace=True)\n",
    "df['피해운전자 연령'].replace(['미분류'],[44],inplace=True)\n",
    "df['피해운전자 연령'] = df['피해운전자 연령'].replace({'세': ''}, regex = True).astype(int)\n",
    "df['피해운전자 연령'].mean() # median()"
   ]
  },
  {
   "cell_type": "markdown",
   "id": "4b92b867",
   "metadata": {},
   "source": [
    "### 컬럼 자료의 빈도수"
   ]
  },
  {
   "cell_type": "code",
   "execution_count": null,
   "id": "36ce6e37",
   "metadata": {},
   "outputs": [],
   "source": [
    "from collections import Counter as cc\n",
    "cnt = cc(df['피해운전자 차종'])\n",
    "cnt.most_common()[:3]\n",
    "[('승용', 8735),\n",
    " ('화물', 2187),\n",
    " ('승합', 409)]"
   ]
  },
  {
   "cell_type": "code",
   "execution_count": null,
   "id": "06b3bb39",
   "metadata": {},
   "outputs": [],
   "source": [
    "# ▶나이를 연령대로 변환\n",
    "df.loc[(df['가해운전자 연령'] > 0) & (df['가해운전자 연령'] <= 19), \"가해연령대\"] = 10\n",
    "plt.show()"
   ]
  },
  {
   "cell_type": "markdown",
   "id": "60d5c945",
   "metadata": {},
   "source": [
    "### 시리즈를 데이터 프레임으로 전환하여 문자열 분리"
   ]
  },
  {
   "cell_type": "code",
   "execution_count": null,
   "id": "dfb7c004",
   "metadata": {},
   "outputs": [],
   "source": [
    "df['시군구'] = df['시군구'].astype('str')\n",
    "df1 = pd.DataFrame(df['시군구'].str.split().tolist(), columns = 'a b c d'.split())\n",
    "df['시군구'] = df1['a']\n",
    "시군구 : 경기도 용인시 기흥구 하갈동 -> 경기도\n",
    "    df['사고일시'] = df['사고일시'].astype('str')\n",
    "df1 = pd.DataFrame(df['사고일시'].str.split().tolist(), columns = 'a b c d'.split())\n",
    "df['사고일'] = df1['a']+df1['b']+df1['c']\n",
    "df['사고일'] = df['사고일'].replace({'년': '-', '월': '-','일': ''}, regex = True)\n",
    "사고일시 : 2019년 1월 1일 11시 ->  2019-01-01"
   ]
  },
  {
   "cell_type": "markdown",
   "id": "e0480cb9",
   "metadata": {},
   "source": [
    "### 한글 깨짐 방지"
   ]
  },
  {
   "cell_type": "code",
   "execution_count": null,
   "id": "61141db3",
   "metadata": {},
   "outputs": [],
   "source": [
    "import matplotlib\n",
    "import matplotlib.font_manager as fm\n",
    "# fm._rebuild()\n",
    "fm.get_fontconfig_fonts()\n",
    "font_location = 'C:/Users/ASIA-19/NanumGothic.ttf' # 폰트 파일 이름, 디렉토리 주의\n",
    "font_name = fm.FontProperties(fname=font_location).get_name()\n",
    "matplotlib.rc('font', family=font_name)"
   ]
  },
  {
   "cell_type": "markdown",
   "id": "a2152321",
   "metadata": {},
   "source": [
    "### 그래프 "
   ]
  },
  {
   "cell_type": "code",
   "execution_count": null,
   "id": "24becf40",
   "metadata": {},
   "outputs": [],
   "source": [
    "# ▶막대 그래프 \n",
    "plt.figure(figsize=(15,10))\n",
    "plt.subplot(3,3,1)\n",
    "sns.countplot(df['요일'])\n",
    "plt.title('요일')\n",
    "plt.subplot(3,3,2)\n",
    "sns.distplot(df['사고시']) \n",
    "plt.xticks(rotation=30)\n",
    "\n",
    "# ▶원 그래프\n",
    "plt.figure(figsize=(15,10))\n",
    "plt.subplot(3,3,1)\n",
    "plt.pie(df['가해운전자 상해정도'].value_counts(),labels=df['가해운전자 상해정도'].unique())\n",
    "plt.title('가해운전자 상해정도')\n",
    "\n",
    "# ▶요일 + 차종 별 사망자 수 분포\n",
    "sns.barplot(x='요일', y='사망자수', hue='가해운전자 차종', data=df)"
   ]
  },
  {
   "cell_type": "code",
   "execution_count": null,
   "id": "1d74f9d5",
   "metadata": {},
   "outputs": [],
   "source": [
    "# ▶ 히트맵\n",
    "plt.subplots(figsize=(15,15))\n",
    "sns.heatmap(df2.corr(method='pearson'), annot=True, linewidths=2)\n",
    "plt.xticks(rotation=25)\n",
    "# print(df.corr(method='pearson'))\n",
    "\n",
    "# ▶ 모든 변수 조합에 관한 Scatter plot\n",
    "df_pair = df[['사망자수','가해연령대', '사고시']]\n",
    "# plt.style.use(['dark_background'])\n",
    "sns.pairplot(df_pair)\n",
    "plt.show()"
   ]
  },
  {
   "cell_type": "code",
   "execution_count": null,
   "id": "94390870",
   "metadata": {},
   "outputs": [],
   "source": [
    "# ▶ 사용하지 않을 Categorical 변수는 리스트에서 제외\n",
    "df2 = df.drop( ['사고번호','사고일'], axis='columns')"
   ]
  },
  {
   "cell_type": "code",
   "execution_count": null,
   "id": "40d7f83e",
   "metadata": {},
   "outputs": [],
   "source": []
  },
  {
   "cell_type": "code",
   "execution_count": null,
   "id": "94c8dd00",
   "metadata": {},
   "outputs": [],
   "source": []
  },
  {
   "cell_type": "code",
   "execution_count": null,
   "id": "cec98b9b",
   "metadata": {},
   "outputs": [],
   "source": []
  },
  {
   "cell_type": "code",
   "execution_count": null,
   "id": "51d3e942",
   "metadata": {},
   "outputs": [],
   "source": []
  },
  {
   "cell_type": "code",
   "execution_count": null,
   "id": "e365a94f",
   "metadata": {},
   "outputs": [],
   "source": []
  }
 ],
 "metadata": {
  "kernelspec": {
   "display_name": "Python 3 (ipykernel)",
   "language": "python",
   "name": "python3"
  },
  "language_info": {
   "codemirror_mode": {
    "name": "ipython",
    "version": 3
   },
   "file_extension": ".py",
   "mimetype": "text/x-python",
   "name": "python",
   "nbconvert_exporter": "python",
   "pygments_lexer": "ipython3",
   "version": "3.9.7"
  }
 },
 "nbformat": 4,
 "nbformat_minor": 5
}
